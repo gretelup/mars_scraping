{
 "cells": [
  {
   "cell_type": "markdown",
   "metadata": {},
   "source": [
    "# Mission to Mars: Step 1 - Scraping"
   ]
  },
  {
   "cell_type": "code",
   "execution_count": 1,
   "metadata": {},
   "outputs": [],
   "source": [
    "# Import Dependencies\n",
    "import pandas as pd\n",
    "from splinter import Browser\n",
    "from bs4 import BeautifulSoup as bs"
   ]
  },
  {
   "cell_type": "code",
   "execution_count": 2,
   "metadata": {},
   "outputs": [],
   "source": [
    "def init_browser():\n",
    "    \"\"\"Initializes a splinter Browser object\"\"\"\n",
    "    \n",
    "    executable_path = {\"executable_path\": \"/usr/local/bin/chromedriver\"}\n",
    "    return Browser(\"chrome\", **executable_path, headless=True)"
   ]
  },
  {
   "cell_type": "markdown",
   "metadata": {},
   "source": [
    "## NASA Mars News"
   ]
  },
  {
   "cell_type": "code",
   "execution_count": 3,
   "metadata": {},
   "outputs": [],
   "source": [
    "def news_scraper():\n",
    "\n",
    "    \"\"\"Scrapes the NASA Mars News Site and collect the latest news title and paragraph text.\n",
    "    Returns a dictionary with the news title and paragraph text as strings.\"\"\"\n",
    "    \n",
    "    # Open NASA Mars News Site using Splinter\n",
    "    with init_browser() as browser:\n",
    "        \n",
    "        url = 'https://mars.nasa.gov/news/?page=0&per_page=40&order=publish_date+desc%2Ccreated_at+desc&search=&category=19%2C165%2C184%2C204&blank_scope=Latest'\n",
    "        browser.visit(url)\n",
    "\n",
    "        # Create Beautiful soup object\n",
    "        soup = bs(browser.html, \"html.parser\")\n",
    "\n",
    "        # Get Latest News Title\n",
    "        news_title= soup.find(\"div\", class_=\"content_title\").text.replace(\"\\n\", \"\")\n",
    "\n",
    "        # Get Text for latest news \n",
    "        news_p = soup.find(\"div\", class_= \"rollover_description_inner\").text\n",
    "        \n",
    "    # Create dictionary of results to return\n",
    "    news_dict = {\"news_title\": news_title, \"news_p\": news_p}\n",
    "\n",
    "    return(news_dict)"
   ]
  },
  {
   "cell_type": "code",
   "execution_count": 4,
   "metadata": {},
   "outputs": [
    {
     "name": "stdout",
     "output_type": "stream",
     "text": [
      "{'news_title': 'InSight Captures Sunrise and Sunset on Mars', 'news_p': \"InSight joins the rest of NASA's Red Planet surface missions, all of which have photographed either the start or end of a Martian day.\"}\n"
     ]
    }
   ],
   "source": [
    "print(news_scraper())"
   ]
  },
  {
   "cell_type": "markdown",
   "metadata": {},
   "source": [
    "## JPL Mars Space Images - Featured Image"
   ]
  },
  {
   "cell_type": "code",
   "execution_count": 5,
   "metadata": {},
   "outputs": [],
   "source": [
    "def image_scraper():\n",
    "      \n",
    "    \"\"\"Scrapes the NASA Mars News Site and collects the image url for the current Featured Mars Image.\n",
    "    Returns a dictionary with the news url as a string.\"\"\"\n",
    "    \n",
    "    # Open NASA Mars News Site using Splinter\n",
    "    with init_browser() as browser:\n",
    "        url = \"https://www.jpl.nasa.gov/spaceimages/?search=&category=Mars\"\n",
    "        browser.visit(url)\n",
    "\n",
    "        # Create Beautiful soup object\n",
    "        soup = bs(browser.html, \"html.parser\")\n",
    "\n",
    "        # Get image url for current Featured Mars Image\n",
    "        JPL_image = soup.find(\"a\", class_ = \"button fancybox\")[\"data-fancybox-href\"]\n",
    "        featured_image_url = f\"https://www.jpl.nasa.gov{JPL_image}\"\n",
    "\n",
    "    # Create dictionary of results to return\n",
    "    image_dict = {\"featured_image_url\": featured_image_url}\n",
    "\n",
    "    return(image_dict)"
   ]
  },
  {
   "cell_type": "code",
   "execution_count": 6,
   "metadata": {},
   "outputs": [
    {
     "name": "stdout",
     "output_type": "stream",
     "text": [
      "{'featured_image_url': 'https://www.jpl.nasa.gov/spaceimages/images/mediumsize/PIA18292_ip.jpg'}\n"
     ]
    }
   ],
   "source": [
    "print(image_scraper())"
   ]
  },
  {
   "cell_type": "markdown",
   "metadata": {},
   "source": [
    "## Mars Weather"
   ]
  },
  {
   "cell_type": "code",
   "execution_count": 10,
   "metadata": {},
   "outputs": [],
   "source": [
    "def weather_scraper():\n",
    "      \n",
    "    \"\"\"Scrapes the weather information from the most recent Mars weather Tweet.\n",
    "    Returns a dictionary with the weather as a string\"\"\"\n",
    "    \n",
    "    # Open NASA Mars News Site using Splinter\n",
    "    with init_browser() as browser:\n",
    "        url = \"https://twitter.com/marswxreport?lang=en\"\n",
    "        browser.visit(url)\n",
    "\n",
    "        # Create Beautiful soup object\n",
    "        soup = bs(browser.html, \"html.parser\")\n",
    "\n",
    "        # Pull out text from tweet and format\n",
    "        tweet_text = soup.find(\"div\", class_=\"js-tweet-text-container\").find(\"p\").text\n",
    "        mars_weather = \" \".join(tweet_text.split(\"pic\")[0].split(\"InSight \")[1].split(\"\\n\"))\n",
    "        \n",
    "    # Create dictionary of results to return\n",
    "    weather_dict = {\"mars_weather\": mars_weather}\n",
    "\n",
    "    return(weather_dict)"
   ]
  },
  {
   "cell_type": "code",
   "execution_count": 11,
   "metadata": {},
   "outputs": [
    {
     "name": "stdout",
     "output_type": "stream",
     "text": [
      "{'mars_weather': 'sol 152 (2019-05-01) low -98.1ºC (-144.5ºF) high -17.2ºC (1.0ºF) winds from the SW at 4.8 m/s (10.7 mph) gusting to 13.2 m/s (29.5 mph) pressure at 7.40 hPa'}\n"
     ]
    }
   ],
   "source": [
    "print(weather_scraper())"
   ]
  },
  {
   "cell_type": "markdown",
   "metadata": {},
   "source": [
    "## Mars Facts"
   ]
  },
  {
   "cell_type": "code",
   "execution_count": 12,
   "metadata": {},
   "outputs": [],
   "source": [
    "def facts_scraper():\n",
    "      \n",
    "    \"\"\"Scrapes Facts about Mars from space-facts.com.\n",
    "    Returns a dictionary with a string of html for a table of these facts\"\"\"\n",
    "    \n",
    "    # Convert table of facts from url into pandas dataframe\n",
    "    url = \"https://space-facts.com/mars/\"\n",
    "    facts_df = pd.read_html(url)[0]\n",
    "    \n",
    "    # Reformat dataframe\n",
    "    facts_df = facts_df.rename(columns={1: \"Value\"})\n",
    "    facts_df = facts_df.set_index(0)\n",
    "\n",
    "    # Convert dataframe to htlp and clean up newlines\n",
    "    html_facts = facts_df.to_html().replace(\"\\n\", \"\").replace('<tr style=\"text-align: right;\">', '').\\\n",
    "    replace(\"    </tr>    <tr>      <th>0</th>      <th></th>    </tr>  \", \"\")\n",
    "        \n",
    "    # Create dictionary of results to return\n",
    "    facts_dict = {\"html_facts\": html_facts}\n",
    "\n",
    "    return(facts_dict)"
   ]
  },
  {
   "cell_type": "code",
   "execution_count": 13,
   "metadata": {
    "scrolled": true
   },
   "outputs": [
    {
     "name": "stdout",
     "output_type": "stream",
     "text": [
      "{'html_facts': '<table border=\"1\" class=\"dataframe\">  <thead>          <th></th>      <th>Value</th></thead>  <tbody>    <tr>      <th>Equatorial Diameter:</th>      <td>6,792 km</td>    </tr>    <tr>      <th>Polar Diameter:</th>      <td>6,752 km</td>    </tr>    <tr>      <th>Mass:</th>      <td>6.42 x 10^23 kg (10.7% Earth)</td>    </tr>    <tr>      <th>Moons:</th>      <td>2 (Phobos &amp; Deimos)</td>    </tr>    <tr>      <th>Orbit Distance:</th>      <td>227,943,824 km (1.52 AU)</td>    </tr>    <tr>      <th>Orbit Period:</th>      <td>687 days (1.9 years)</td>    </tr>    <tr>      <th>Surface Temperature:</th>      <td>-153 to 20 °C</td>    </tr>    <tr>      <th>First Record:</th>      <td>2nd millennium BC</td>    </tr>    <tr>      <th>Recorded By:</th>      <td>Egyptian astronomers</td>    </tr>  </tbody></table>'}\n"
     ]
    }
   ],
   "source": [
    "print(facts_scraper())"
   ]
  },
  {
   "cell_type": "markdown",
   "metadata": {},
   "source": [
    "## Mars Hemispheres"
   ]
  },
  {
   "cell_type": "code",
   "execution_count": 14,
   "metadata": {},
   "outputs": [],
   "source": [
    "def hemi_scraper():\n",
    "      \n",
    "    \"\"\"Scrapes the name and url of high resolution images for each hemisphere of Mars.\n",
    "    Returns a dictionary with a list of dictionaries of the image title and url for each hemisphere\"\"\"\n",
    "    \n",
    "    # Create list of hemisphere name and urls for each hemisphere in dictionary form\n",
    "    hemisphere_image_urls = []\n",
    "    url = \"https://astrogeology.usgs.gov/search/results?q=hemisphere+enhanced&k1=target&v1=Mars\"\n",
    "    \n",
    "    for x in range(4):\n",
    "        with init_browser() as browser:\n",
    "            \n",
    "            browser.visit(url)\n",
    "\n",
    "            # Create Beautiful soup object\n",
    "            soup = bs(browser.html, \"html.parser\")\n",
    "            \n",
    "            hemi = soup.find_all(\"div\", class_=\"description\")[x]\n",
    "            \n",
    "            # Get name of hemisphere\n",
    "            hemi_name = hemi.find(\"h3\").text\n",
    "            \n",
    "            # Get link to page with full resolution image\n",
    "            hemi_image = hemi.find(\"a\")[\"href\"]\n",
    "            hemi_image_url = f\"https://astrogeology.usgs.gov/{hemi_image}\"\n",
    "            \n",
    "            with init_browser() as browser:\n",
    "                # Open browser to selected hemisphere's page\n",
    "                browser.visit(hemi_image_url)\n",
    "                soup = bs(browser.html, \"html.parser\")\n",
    "\n",
    "                # Get link to full resolution image\n",
    "                hemi_full = soup.find(\"img\", class_ = \"wide-image\")[\"src\"]\n",
    "                hemi_full_url = f\"https://astrogeology.usgs.gov/{hemi_full}\"\n",
    "\n",
    "                \n",
    "            hemi_image_dict = {\"title\": hemi_name, \"img_url\": hemi_full_url}      \n",
    "            hemisphere_image_urls.append(hemi_image_dict)\n",
    "    \n",
    "    # Create dictionary of results to return\n",
    "    hemi_dict = {\"hemisphere_image_urls\": hemisphere_image_urls}\n",
    "    \n",
    "    return(hemi_dict)"
   ]
  },
  {
   "cell_type": "code",
   "execution_count": 15,
   "metadata": {},
   "outputs": [
    {
     "name": "stdout",
     "output_type": "stream",
     "text": [
      "{'hemisphere_image_urls': [{'title': 'Cerberus Hemisphere Enhanced', 'img_url': 'https://astrogeology.usgs.gov//cache/images/cfa62af2557222a02478f1fcd781d445_cerberus_enhanced.tif_full.jpg'}, {'title': 'Schiaparelli Hemisphere Enhanced', 'img_url': 'https://astrogeology.usgs.gov//cache/images/3cdd1cbf5e0813bba925c9030d13b62e_schiaparelli_enhanced.tif_full.jpg'}, {'title': 'Syrtis Major Hemisphere Enhanced', 'img_url': 'https://astrogeology.usgs.gov//cache/images/ae209b4e408bb6c3e67b6af38168cf28_syrtis_major_enhanced.tif_full.jpg'}, {'title': 'Valles Marineris Hemisphere Enhanced', 'img_url': 'https://astrogeology.usgs.gov//cache/images/7cf2da4bf549ed01c17f206327be4db7_valles_marineris_enhanced.tif_full.jpg'}]}\n"
     ]
    }
   ],
   "source": [
    "print(hemi_scraper())"
   ]
  },
  {
   "cell_type": "code",
   "execution_count": 16,
   "metadata": {},
   "outputs": [],
   "source": [
    "def scrape():\n",
    "      \n",
    "    \"\"\"Scrapes various websites for information on Mars.\n",
    "    Returns a dictionary of this information.\"\"\"\n",
    "    \n",
    "    news_dict = news_scraper()\n",
    "    image_dict = image_scraper()\n",
    "    weather_dict = weather_scraper()\n",
    "    facts_dict = facts_scraper()\n",
    "    hemi_dict = hemi_scraper()\n",
    "\n",
    "    mars_dict = {**news_dict, **image_dict, **weather_dict, **facts_dict, **hemi_dict}\n",
    "    return(mars_dict)"
   ]
  }
 ],
 "metadata": {
  "kernelspec": {
   "display_name": "PythonData",
   "language": "python",
   "name": "pythondata"
  },
  "language_info": {
   "codemirror_mode": {
    "name": "ipython",
    "version": 3
   },
   "file_extension": ".py",
   "mimetype": "text/x-python",
   "name": "python",
   "nbconvert_exporter": "python",
   "pygments_lexer": "ipython3",
   "version": "3.7.3"
  }
 },
 "nbformat": 4,
 "nbformat_minor": 2
}
