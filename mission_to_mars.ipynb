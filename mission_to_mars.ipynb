{
 "cells": [
  {
   "cell_type": "markdown",
   "metadata": {},
   "source": [
    "### Hints:\n",
    "* Use Splinter to navigate the sites when needed and BeautifulSoup to help find and parse out the necessary data.\n",
    "* Use Pymongo for CRUD applications for your database. For this homework, you can simply overwrite the existing document each time the /scrape url is visited and new data is obtained."
   ]
  },
  {
   "cell_type": "markdown",
   "metadata": {},
   "source": [
    "## Gretelnotes\n",
    "think about simplifying all the browser to soup commands to a single line"
   ]
  },
  {
   "cell_type": "markdown",
   "metadata": {},
   "source": [
    "## Setup"
   ]
  },
  {
   "cell_type": "code",
   "execution_count": 168,
   "metadata": {},
   "outputs": [],
   "source": [
    "# Import Dependencies\n",
    "import pandas as pd\n",
    "import requests\n",
    "import pymongo\n",
    "from splinter import Browser\n",
    "from bs4 import BeautifulSoup as bs"
   ]
  },
  {
   "cell_type": "markdown",
   "metadata": {},
   "source": [
    "## NASA Mars News"
   ]
  },
  {
   "cell_type": "code",
   "execution_count": 169,
   "metadata": {},
   "outputs": [],
   "source": [
    "# NOT NEEDED HERE\n",
    "# Initialize PyMongo to work with MongoDBs\n",
    "# conn = 'mongodb://localhost:27017'\n",
    "# client = pymongo.MongoClient(conn)\n",
    "\n",
    "# # Define database and collection\n",
    "# db = client.mars_db\n",
    "# collection = db.items"
   ]
  },
  {
   "cell_type": "code",
   "execution_count": 170,
   "metadata": {},
   "outputs": [],
   "source": [
    "# Scrape the NASA Mars News Site and collect the latest News Title and Paragraph Text. \n",
    "\n",
    "executable_path = {'executable_path': '/usr/local/bin/chromedriver'}\n",
    "browser = Browser('chrome', **executable_path, headless=False)\n",
    "\n",
    "url_news = 'https://mars.nasa.gov/news/?page=0&per_page=40&order=publish_date+desc%2Ccreated_at+desc&search=&category=19%2C165%2C184%2C204&blank_scope=Latest'\n",
    "browser.visit(url_news)\n",
    "\n",
    "html_news = browser.html\n",
    "soup_news = bs(html_news, \"html.parser\")\n",
    "    \n",
    "# Latest News Title\n",
    "#IS THERE A BETTER WAY OF DOING THIS? Maybe another place to find title or a way to capitalize first letter\n",
    "news_title_html = soup_news.find(\"div\", class_='image_and_description_container').find(\"a\")[\"href\"]\n",
    "news_title = \" \".join(news_title_html.split(\"/\")[3].split(\"-\"))\n",
    "\n",
    "# Text for latest news \n",
    "news_p = soup_news.find(\"div\", class_=\"rollover_description_inner\").text\n"
   ]
  },
  {
   "cell_type": "code",
   "execution_count": 171,
   "metadata": {},
   "outputs": [
    {
     "name": "stdout",
     "output_type": "stream",
     "text": [
      "nasa social media and websites win webby awards\n",
      "NASA's social media presence, the InSight mission social media accounts, NASA.gov and SolarSystem.NASA.gov will be honored at the 2019 Webby Awards - \"the Oscars of the Internet.\"\n"
     ]
    }
   ],
   "source": [
    "print(news_title)\n",
    "print(news_p)"
   ]
  },
  {
   "cell_type": "markdown",
   "metadata": {},
   "source": [
    "## JPL Mars Space Images - Featured Image"
   ]
  },
  {
   "cell_type": "code",
   "execution_count": 172,
   "metadata": {},
   "outputs": [],
   "source": [
    "# Find the image url for the current Featured Mars Image\n",
    "\n",
    "executable_path = {'executable_path': '/usr/local/bin/chromedriver'}\n",
    "browser = Browser('chrome', **executable_path, headless=False)\n",
    "\n",
    "url_JPL = \"https://www.jpl.nasa.gov/spaceimages/?search=&category=Mars\"\n",
    "browser.visit(url_JPL)\n",
    "\n",
    "html_JPL = browser.html\n",
    "soup_JPL = bs(html_JPL, \"html.parser\")\n",
    "\n",
    "image_JPL = soup_JPL.find(\"article\").find(\"footer\").find(\"a\")[\"data-fancybox-href\"]\n",
    "featured_image_url = f\"https://www.jpl.nasa.gov{image_JPL}\""
   ]
  },
  {
   "cell_type": "code",
   "execution_count": 173,
   "metadata": {},
   "outputs": [
    {
     "name": "stdout",
     "output_type": "stream",
     "text": [
      "https://www.jpl.nasa.gov/spaceimages/images/mediumsize/PIA19346_ip.jpg\n"
     ]
    }
   ],
   "source": [
    "print(featured_image_url)"
   ]
  },
  {
   "cell_type": "markdown",
   "metadata": {},
   "source": [
    "## Mars Weather"
   ]
  },
  {
   "cell_type": "code",
   "execution_count": 174,
   "metadata": {},
   "outputs": [],
   "source": [
    "# Find the latest Mars weather tweet and save weatehr report text\n",
    "\n",
    "executable_path = {'executable_path': '/usr/local/bin/chromedriver'}\n",
    "browser = Browser('chrome', **executable_path, headless=False)\n",
    "\n",
    "url_tweet = \"https://twitter.com/marswxreport?lang=en\"\n",
    "browser.visit(url_tweet)\n",
    "\n",
    "html_tweet = browser.html\n",
    "soup_tweet = bs(html_tweet, \"html.parser\")\n",
    "\n",
    "# Pull out text from tweet and format\n",
    "tweet_text = soup_tweet.find(\"div\", class_=\"js-tweet-text-container\").find(\"p\").text\n",
    "mars_weather = \" \".join(tweet_text.split(\"pic\")[0].split(\"InSight \")[1].split(\"\\n\"))"
   ]
  },
  {
   "cell_type": "code",
   "execution_count": 175,
   "metadata": {},
   "outputs": [
    {
     "name": "stdout",
     "output_type": "stream",
     "text": [
      "sol 145 (2019-04-24) low -98.1ºC (-144.6ºF) high -19.3ºC (-2.8ºF) winds from the SW at 4.4 m/s (9.8 mph) gusting to 11.6 m/s (26.1 mph) pressure at 7.40 hPa\n"
     ]
    }
   ],
   "source": [
    "print(mars_weather)"
   ]
  },
  {
   "cell_type": "markdown",
   "metadata": {},
   "source": [
    "## Mars Facts\n",
    "* Visit the Mars Facts webpage here https://space-facts.com/mars/ and use Pandas to scrape the table containing facts about the planet including Diameter, Mass, etc.\n",
    "* Use Pandas to convert the data to a HTML table string."
   ]
  },
  {
   "cell_type": "code",
   "execution_count": 176,
   "metadata": {},
   "outputs": [],
   "source": [
    "# Unsure about the format I need to put this in. Parameter as index? Or as column headings?\n",
    "# HTML definitely needs cleaning up\n",
    "\n",
    "# Convert table of facts from url into pandas dataframe\n",
    "url_facts = \"https://space-facts.com/mars/\"\n",
    "facts_df = pd.read_html(url_facts)[0]\n",
    "\n",
    "# Reformat dataframe\n",
    "facts_df = facts_df.rename(columns={0: \"Parameter\" , 1: \"Values\"})\n",
    "facts_df = facts_df.set_index(\"Parameter\")\n",
    "\n",
    "# Convert dataframe to htlp and clean up newlines\n",
    "html_facts = facts_df.to_html().replace('\\n', \"\")"
   ]
  },
  {
   "cell_type": "code",
   "execution_count": 177,
   "metadata": {
    "scrolled": true
   },
   "outputs": [
    {
     "name": "stdout",
     "output_type": "stream",
     "text": [
      "<table border=\"1\" class=\"dataframe\">  <thead>    <tr style=\"text-align: right;\">      <th></th>      <th>Values</th>    </tr>    <tr>      <th>Parameter</th>      <th></th>    </tr>  </thead>  <tbody>    <tr>      <th>Equatorial Diameter:</th>      <td>6,792 km</td>    </tr>    <tr>      <th>Polar Diameter:</th>      <td>6,752 km</td>    </tr>    <tr>      <th>Mass:</th>      <td>6.42 x 10^23 kg (10.7% Earth)</td>    </tr>    <tr>      <th>Moons:</th>      <td>2 (Phobos &amp; Deimos)</td>    </tr>    <tr>      <th>Orbit Distance:</th>      <td>227,943,824 km (1.52 AU)</td>    </tr>    <tr>      <th>Orbit Period:</th>      <td>687 days (1.9 years)</td>    </tr>    <tr>      <th>Surface Temperature:</th>      <td>-153 to 20 °C</td>    </tr>    <tr>      <th>First Record:</th>      <td>2nd millennium BC</td>    </tr>    <tr>      <th>Recorded By:</th>      <td>Egyptian astronomers</td>    </tr>  </tbody></table>\n"
     ]
    }
   ],
   "source": [
    "print(html_facts)"
   ]
  },
  {
   "cell_type": "markdown",
   "metadata": {},
   "source": [
    "## Mars Hemispheres\n",
    "\n",
    "Get the name and url of a high resolution image for each hemisphere of Mars."
   ]
  },
  {
   "cell_type": "code",
   "execution_count": 178,
   "metadata": {},
   "outputs": [],
   "source": [
    "# Use splinter to access website through chrome\n",
    "\n",
    "executable_path = {'executable_path': '/usr/local/bin/chromedriver'}\n",
    "browser = Browser('chrome', **executable_path, headless=False)\n",
    "\n",
    "url_hemi = \"https://astrogeology.usgs.gov/search/results?q=hemisphere+enhanced&k1=target&v1=Mars\"\n",
    "browser.visit(url_hemi)\n",
    "\n",
    "# Create Beautiful soup object\n",
    "soup_hemi = bs(browser.html, \"html.parser\")"
   ]
  },
  {
   "cell_type": "code",
   "execution_count": 179,
   "metadata": {},
   "outputs": [],
   "source": [
    "# Define function\n",
    "\n",
    "def get_hemi_image(x):\n",
    "    \"\"\"This function finds the name and url string for the full resolution \n",
    "    image of a hemisphere based on its index in a list and returns a dictionary of these values\"\"\"\n",
    "    \n",
    "    # Get name of hemisphere\n",
    "    name_hemi = hemi_all[x].find(\"h3\").text\n",
    "\n",
    "    # Get link to page with full resolution image\n",
    "    image_hemi = hemi_all[x].find(\"a\")[\"href\"]\n",
    "    image_hemi_url = f\"https://astrogeology.usgs.gov/{image_hemi}\"\n",
    "    \n",
    "    # Open browser to selected hemisphere's page\n",
    "    browser.visit(image_hemi_url)\n",
    "    soup_hemi_img = bs(browser.html)\n",
    "\n",
    "    # Get link to full resolution image\n",
    "    hemi_full_url = soup_hemi_img.find(\"div\", class_=\"downloads\").find_all(\"li\")[1].find(\"a\")[\"href\"]\n",
    "\n",
    "    # Open browser to previous page\n",
    "    browser.click_link_by_partial_text('Back')\n",
    "    \n",
    "    #return dictionary of values\n",
    "    hemi_dict = {\"title\": name_hemi, \"img_url\": hemi_full_url}\n",
    "    return(hemi_dict)"
   ]
  },
  {
   "cell_type": "code",
   "execution_count": 180,
   "metadata": {},
   "outputs": [],
   "source": [
    "# Create list of hemisphere name and urls for each hemisphere in dictionary form\n",
    "\n",
    "hemisphere_image_urls = []\n",
    "\n",
    "hemi_all = soup_hemi.find_all(\"div\", class_=\"description\")\n",
    "for x in range(4):\n",
    "    hemisphere_image_urls.append(get_hemi_image(x))"
   ]
  },
  {
   "cell_type": "code",
   "execution_count": 181,
   "metadata": {},
   "outputs": [
    {
     "name": "stdout",
     "output_type": "stream",
     "text": [
      "[{'title': 'Cerberus Hemisphere Enhanced', 'img_url': 'http://astropedia.astrogeology.usgs.gov/download/Mars/Viking/cerberus_enhanced.tif'}, {'title': 'Schiaparelli Hemisphere Enhanced', 'img_url': 'http://astropedia.astrogeology.usgs.gov/download/Mars/Viking/schiaparelli_enhanced.tif'}, {'title': 'Syrtis Major Hemisphere Enhanced', 'img_url': 'http://astropedia.astrogeology.usgs.gov/download/Mars/Viking/syrtis_major_enhanced.tif'}, {'title': 'Valles Marineris Hemisphere Enhanced', 'img_url': 'http://astropedia.astrogeology.usgs.gov/download/Mars/Viking/valles_marineris_enhanced.tif'}]\n"
     ]
    }
   ],
   "source": [
    "print(hemisphere_image_urls)"
   ]
  },
  {
   "cell_type": "code",
   "execution_count": null,
   "metadata": {},
   "outputs": [],
   "source": []
  }
 ],
 "metadata": {
  "kernelspec": {
   "display_name": "PythonData",
   "language": "python",
   "name": "pythondata"
  },
  "language_info": {
   "codemirror_mode": {
    "name": "ipython",
    "version": 3
   },
   "file_extension": ".py",
   "mimetype": "text/x-python",
   "name": "python",
   "nbconvert_exporter": "python",
   "pygments_lexer": "ipython3",
   "version": "3.7.3"
  }
 },
 "nbformat": 4,
 "nbformat_minor": 2
}
